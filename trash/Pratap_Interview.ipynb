{
 "cells": [
  {
   "cell_type": "code",
   "execution_count": 1,
   "id": "7716140f-ab85-4052-964d-59e30a4432ea",
   "metadata": {},
   "outputs": [
    {
     "name": "stdout",
     "output_type": "stream",
     "text": [
      "Distance from Delhi to Delhi is not available.\n"
     ]
    }
   ],
   "source": [
    "import pandas as pd\n",
    "\n",
    "# Define the distance dataframe\n",
    "data = {\n",
    "    'From': ['Delhi', 'Bhopal', 'Hyderabad', 'Bengalure'],\n",
    "    'To': ['Bhopal', 'Hyderabad', 'Chennai', 'Hyderabad'],\n",
    "    'Distance': [786, 850, 626, 576]\n",
    "}\n",
    "\n",
    "distance_df = pd.DataFrame(data)\n",
    "\n",
    "# Define the routes dataframe\n",
    "data = {\n",
    "    'Source': ['Delhi', 'Bengaluru'],\n",
    "    'Destination': ['Chennai', 'Bhopal'],\n",
    "    'Stops': ['Delhi, Bhopal, Hyderabad, Chennai', 'Bengalure, Hyderabad, Bhopal']\n",
    "}\n",
    "\n",
    "routes_df = pd.DataFrame(data)\n",
    "\n",
    "# Function to calculate the distance between two cities based on stops\n",
    "def calculate_distance(source, destination, stops):\n",
    "    stop_list = stops.split(', ')\n",
    "    total_distance = 0\n",
    "    current_location = source\n",
    "\n",
    "    for stop in stop_list:\n",
    "        row = distance_df[(distance_df['From'] == current_location) & (distance_df['To'] == stop)]\n",
    "        if not row.empty:\n",
    "            total_distance += row['Distance'].values[0]\n",
    "        else:\n",
    "            print(f\"Distance from {current_location} to {stop} is not available.\")\n",
    "            return None\n",
    "\n",
    "        current_location = stop\n",
    "\n",
    "    return total_distance\n",
    "\n",
    "# Calculate the distance between Delhi and Chennai\n",
    "source_city = 'Delhi'\n",
    "destination_city = 'Chennai'\n",
    "\n",
    "result = routes_df[(routes_df['Source'] == source_city) & (routes_df['Destination'] == destination_city)]\n",
    "if not result.empty:\n",
    "    stops = result['Stops'].values[0]\n",
    "    distance = calculate_distance(source_city, destination_city, stops)\n",
    "    if distance is not None:\n",
    "        print(f\"Distance from {source_city} to {destination_city} is {distance} kilometers.\")\n",
    "else:\n",
    "    print(f\"No route found from {source_city} to {destination_city}.\")"
   ]
  },
  {
   "cell_type": "code",
   "execution_count": 2,
   "id": "a2f33e1a-224d-466e-8f55-60b5195523bf",
   "metadata": {},
   "outputs": [
    {
     "name": "stdout",
     "output_type": "stream",
     "text": [
      "Distance from Delhi to Chennai is 2262 kilometers.\n"
     ]
    }
   ],
   "source": [
    "import pandas as pd\n",
    "\n",
    "# Define the distance dataframe\n",
    "data = {\n",
    "    'From': ['Delhi', 'Bhopal', 'Hyderabad', 'Bengalure'],\n",
    "    'To': ['Bhopal', 'Hyderabad', 'Chennai', 'Hyderabad'],\n",
    "    'Distance': [786, 850, 626, 576]\n",
    "}\n",
    "\n",
    "distance_df = pd.DataFrame(data)\n",
    "\n",
    "# Define the routes dataframe\n",
    "data = {\n",
    "    'Source': ['Delhi', 'Bengaluru'],\n",
    "    'Destination': ['Chennai', 'Bhopal'],\n",
    "    'Stops': ['Bhopal, Hyderabad, Chennai', 'Hyderabad, Bhopal']\n",
    "}\n",
    "\n",
    "routes_df = pd.DataFrame(data)\n",
    "\n",
    "# Function to calculate the distance between two cities based on stops\n",
    "def calculate_distance(source, destination, stops):\n",
    "    stop_list = stops.split(', ')\n",
    "    total_distance = 0\n",
    "    current_location = source\n",
    "\n",
    "    for stop in stop_list:\n",
    "        row = distance_df[(distance_df['From'] == current_location) & (distance_df['To'] == stop)]\n",
    "        if not row.empty:\n",
    "            total_distance += row['Distance'].values[0]\n",
    "        else:\n",
    "            print(f\"Distance from {current_location} to {stop} is not available.\")\n",
    "            return None\n",
    "\n",
    "        current_location = stop\n",
    "\n",
    "    return total_distance\n",
    "\n",
    "# Calculate the distance between Delhi and Chennai\n",
    "source_city = 'Delhi'\n",
    "destination_city = 'Chennai'\n",
    "\n",
    "result = routes_df[(routes_df['Source'] == source_city) & (routes_df['Destination'] == destination_city)]\n",
    "if not result.empty:\n",
    "    stops = result['Stops'].values[0]\n",
    "    distance = calculate_distance(source_city, destination_city, stops)\n",
    "    if distance is not None:\n",
    "        print(f\"Distance from {source_city} to {destination_city} is {distance} kilometers.\")\n",
    "else:\n",
    "    print(f\"No route found from {source_city} to {destination_city}.\")"
   ]
  },
  {
   "cell_type": "code",
   "execution_count": 4,
   "id": "8f593e5a-4b77-449e-8b4f-f1d1c3214879",
   "metadata": {},
   "outputs": [
    {
     "data": {
      "text/plain": [
       "2262"
      ]
     },
     "execution_count": 4,
     "metadata": {},
     "output_type": "execute_result"
    }
   ],
   "source": [
    "distance = calculate_distance(source_city, destination_city, stops)\n",
    "\n",
    "distance"
   ]
  }
 ],
 "metadata": {
  "kernelspec": {
   "display_name": "Python 3 (ipykernel)",
   "language": "python",
   "name": "python3"
  },
  "language_info": {
   "codemirror_mode": {
    "name": "ipython",
    "version": 3
   },
   "file_extension": ".py",
   "mimetype": "text/x-python",
   "name": "python",
   "nbconvert_exporter": "python",
   "pygments_lexer": "ipython3",
   "version": "3.11.1"
  }
 },
 "nbformat": 4,
 "nbformat_minor": 5
}
